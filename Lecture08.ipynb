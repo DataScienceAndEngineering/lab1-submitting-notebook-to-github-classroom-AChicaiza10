{
  "nbformat": 4,
  "nbformat_minor": 0,
  "metadata": {
    "colab": {
      "provenance": []
    },
    "kernelspec": {
      "name": "python3",
      "display_name": "Python 3"
    },
    "language_info": {
      "name": "python"
    }
  },
  "cells": [
    {
      "cell_type": "markdown",
      "source": [
        "String(continued)"
      ],
      "metadata": {
        "id": "gSWJ5BEIRWKl"
      }
    },
    {
      "cell_type": "code",
      "source": [
        "print(\"snoopy says \"bleeech\"\")"
      ],
      "metadata": {
        "colab": {
          "base_uri": "https://localhost:8080/",
          "height": 143
        },
        "id": "8iwaYqRsRhQX",
        "outputId": "bcb51f7e-bcb8-40ac-dd72-918cd3a4c55e"
      },
      "execution_count": null,
      "outputs": [
        {
          "output_type": "error",
          "ename": "SyntaxError",
          "evalue": "ignored",
          "traceback": [
            "\u001b[0;36m  File \u001b[0;32m\"<ipython-input-3-1042e913643c>\"\u001b[0;36m, line \u001b[0;32m1\u001b[0m\n\u001b[0;31m    print(\"snoopy says , \"bleeech\"\")\u001b[0m\n\u001b[0m          ^\u001b[0m\n\u001b[0;31mSyntaxError\u001b[0m\u001b[0;31m:\u001b[0m invalid syntax. Perhaps you forgot a comma?\n"
          ]
        }
      ]
    },
    {
      "cell_type": "code",
      "source": [
        "print('snoopy says \"bleeeech\"')"
      ],
      "metadata": {
        "colab": {
          "base_uri": "https://localhost:8080/"
        },
        "id": "9wA0hoEmRzx9",
        "outputId": "018457e6-ddd5-4f7c-b50b-1e17190e591e"
      },
      "execution_count": null,
      "outputs": [
        {
          "output_type": "stream",
          "name": "stdout",
          "text": [
            "snoopy says \"bleeeech\"\n"
          ]
        }
      ]
    },
    {
      "cell_type": "code",
      "source": [
        "print(\"Don't say \\\"never\\\"\")"
      ],
      "metadata": {
        "colab": {
          "base_uri": "https://localhost:8080/"
        },
        "id": "JRGTfpFXSBlD",
        "outputId": "bcf6079d-dbd3-4bf1-90dd-884932ef6ff3"
      },
      "execution_count": null,
      "outputs": [
        {
          "output_type": "stream",
          "name": "stdout",
          "text": [
            "Don't say \"never\"\n"
          ]
        }
      ]
    },
    {
      "cell_type": "code",
      "source": [
        "print(\"This is one line. \\nThis is the next line.\\n\")"
      ],
      "metadata": {
        "colab": {
          "base_uri": "https://localhost:8080/"
        },
        "id": "bxmbi0PFSKU0",
        "outputId": "aef10503-7d11-4f8d-b407-d7602a17b06b"
      },
      "execution_count": null,
      "outputs": [
        {
          "output_type": "stream",
          "name": "stdout",
          "text": [
            "This is one line. \n",
            "This is the next line.\n",
            "\n"
          ]
        }
      ]
    },
    {
      "cell_type": "code",
      "source": [
        "#\\n tells it to go to the next line"
      ],
      "metadata": {
        "id": "UtfpiWb7Srrv"
      },
      "execution_count": null,
      "outputs": []
    },
    {
      "cell_type": "code",
      "source": [
        "sonnet = \"\"\"When in the chronicle of wasted time\n",
        "I see descriptions of the fairest wights,\n",
        "And beauty making beautiful old rhyme\n",
        "In praise of ladies dead and lovely knights,\n",
        "Then, in the blazon of sweet beauty's best,\n",
        "Of hand, of foot, of lip, of eye, of brow,\n",
        "I see their antique pen would have express'd\n",
        "Even such a beauty as you master now.\n",
        "So all their praises are but prophecies\n",
        "Of this our time, all you prefiguring;\n",
        "And, for they look'd but with divining eyes,\n",
        "They had not skill enough your worth to sing:\n",
        "For we, which now behold these present days,\n",
        "Have eyes to wonder, but lack tongues to praise.\n",
        "\"\"\""
      ],
      "metadata": {
        "id": "ccZ5QEJoSvnd"
      },
      "execution_count": null,
      "outputs": []
    },
    {
      "cell_type": "code",
      "source": [
        "print(sonnet)"
      ],
      "metadata": {
        "colab": {
          "base_uri": "https://localhost:8080/"
        },
        "id": "rJavW4z2TpD5",
        "outputId": "12e7271c-10be-4745-9e0b-9d6687ad7445"
      },
      "execution_count": null,
      "outputs": [
        {
          "output_type": "stream",
          "name": "stdout",
          "text": [
            "When in the chronicle of wasted time\n",
            "I see descriptions of the fairest wights,\n",
            "And beauty making beautiful old rhyme\n",
            "In praise of ladies dead and lovely knights,\n",
            "Then, in the blazon of sweet beauty's best,\n",
            "Of hand, of foot, of lip, of eye, of brow,\n",
            "I see their antique pen would have express'd\n",
            "Even such a beauty as you master now.\n",
            "So all their praises are but prophecies\n",
            "Of this our time, all you prefiguring;\n",
            "And, for they look'd but with divining eyes,\n",
            "They had not skill enough your worth to sing:\n",
            "For we, which now behold these present days,\n",
            "Have eyes to wonder, but lack tongues to praise.\n",
            "\n"
          ]
        }
      ]
    },
    {
      "cell_type": "code",
      "source": [
        "sonnet"
      ],
      "metadata": {
        "colab": {
          "base_uri": "https://localhost:8080/",
          "height": 89
        },
        "id": "QibYBORITq63",
        "outputId": "5c9215ab-05c0-4259-a4b9-40e1cd0f1465"
      },
      "execution_count": null,
      "outputs": [
        {
          "output_type": "execute_result",
          "data": {
            "text/plain": [
              "\"When in the chronicle of wasted time\\nI see descriptions of the fairest wights,\\nAnd beauty making beautiful old rhyme\\nIn praise of ladies dead and lovely knights,\\nThen, in the blazon of sweet beauty's best,\\nOf hand, of foot, of lip, of eye, of brow,\\nI see their antique pen would have express'd\\nEven such a beauty as you master now.\\nSo all their praises are but prophecies\\nOf this our time, all you prefiguring;\\nAnd, for they look'd but with divining eyes,\\nThey had not skill enough your worth to sing:\\nFor we, which now behold these present days,\\nHave eyes to wonder, but lack tongues to praise.\\n\""
            ],
            "application/vnd.google.colaboratory.intrinsic+json": {
              "type": "string"
            }
          },
          "metadata": {},
          "execution_count": 9
        }
      ]
    },
    {
      "cell_type": "code",
      "source": [
        "tab_escape_example = \"Foo\\tbar\\tFish\""
      ],
      "metadata": {
        "id": "pQu3pP6rTzJu"
      },
      "execution_count": null,
      "outputs": []
    },
    {
      "cell_type": "code",
      "source": [
        "print(tab_escape_example)"
      ],
      "metadata": {
        "colab": {
          "base_uri": "https://localhost:8080/"
        },
        "id": "JtF-SgdiT-A7",
        "outputId": "307d138f-8bce-4cfa-ef3b-1f1f8a08dda3"
      },
      "execution_count": null,
      "outputs": [
        {
          "output_type": "stream",
          "name": "stdout",
          "text": [
            "Foo\tbar\tFish\n"
          ]
        }
      ]
    },
    {
      "cell_type": "code",
      "source": [
        "tab1_escape = \"Foo\\ntab\\nFish\""
      ],
      "metadata": {
        "id": "pNsLsejUUBLj"
      },
      "execution_count": null,
      "outputs": []
    },
    {
      "cell_type": "code",
      "source": [
        "print(tab1_escape)"
      ],
      "metadata": {
        "colab": {
          "base_uri": "https://localhost:8080/"
        },
        "id": "rjPf4PHlUHmC",
        "outputId": "678b882a-463e-4f82-dbc3-8b0259258156"
      },
      "execution_count": null,
      "outputs": [
        {
          "output_type": "stream",
          "name": "stdout",
          "text": [
            "Foo\n",
            "tab\n",
            "Fish\n"
          ]
        }
      ]
    },
    {
      "cell_type": "code",
      "source": [
        "myint = 9\n",
        "mybool = True\n",
        "print(\"this is a number:\", myint, \"and a boolean:\", mybool)"
      ],
      "metadata": {
        "colab": {
          "base_uri": "https://localhost:8080/"
        },
        "id": "P-OHNJwSUKDc",
        "outputId": "654feb5f-f716-4a68-a95b-67bd3892a94a"
      },
      "execution_count": null,
      "outputs": [
        {
          "output_type": "stream",
          "name": "stdout",
          "text": [
            "this is a number: 9 and a boolean: True\n"
          ]
        }
      ]
    },
    {
      "cell_type": "code",
      "source": [
        "message = \"this is a number:\"+ str(myint)\n",
        "message += \"and a boolean:\"+ str(mybool)"
      ],
      "metadata": {
        "id": "Wc0pY33XUaSw"
      },
      "execution_count": null,
      "outputs": []
    },
    {
      "cell_type": "code",
      "source": [
        "print(message)"
      ],
      "metadata": {
        "colab": {
          "base_uri": "https://localhost:8080/"
        },
        "id": "aad3faHKUyZ4",
        "outputId": "5d75dd7e-994c-49ec-e88b-38158d137361"
      },
      "execution_count": null,
      "outputs": [
        {
          "output_type": "stream",
          "name": "stdout",
          "text": [
            "this is a number:9and a boolean:True\n"
          ]
        }
      ]
    },
    {
      "cell_type": "code",
      "source": [
        "myint = 2\n",
        "mybool = False\n",
        "message = f\"this is an int: {myint+4*17} and a bool: {mybool}\"\n",
        "print(message)"
      ],
      "metadata": {
        "colab": {
          "base_uri": "https://localhost:8080/"
        },
        "id": "s623hTNRUyk5",
        "outputId": "8f4fd9ef-39bd-43ac-ef1c-d3b5c339f654"
      },
      "execution_count": null,
      "outputs": [
        {
          "output_type": "stream",
          "name": "stdout",
          "text": [
            "this is an int: 70 and a bool: False\n"
          ]
        }
      ]
    },
    {
      "cell_type": "code",
      "source": [
        "print(message)"
      ],
      "metadata": {
        "colab": {
          "base_uri": "https://localhost:8080/"
        },
        "id": "g8nBDCa0VE9Z",
        "outputId": "1deb6985-d350-4f70-c269-fb19d85d01ae"
      },
      "execution_count": null,
      "outputs": [
        {
          "output_type": "stream",
          "name": "stdout",
          "text": [
            "this is an int: 2 and a bool: False\n"
          ]
        }
      ]
    },
    {
      "cell_type": "markdown",
      "source": [
        "#f will substitute in the value of the variable"
      ],
      "metadata": {
        "id": "sDWRSvJXVlff"
      }
    },
    {
      "cell_type": "code",
      "source": [
        "template = f\"\"\"Integer: {myint}\n",
        "Boolean: {mybool}\n",
        "\"\"\"\n",
        "print(template)"
      ],
      "metadata": {
        "colab": {
          "base_uri": "https://localhost:8080/"
        },
        "id": "iEHwce92VbQ-",
        "outputId": "0b9a43a5-6163-44dd-a871-76d37f0fce4f"
      },
      "execution_count": null,
      "outputs": [
        {
          "output_type": "stream",
          "name": "stdout",
          "text": [
            "Integer: 2\n",
            "Boolean: False\n",
            "\n"
          ]
        }
      ]
    },
    {
      "cell_type": "code",
      "source": [
        "import numpy as np\n",
        "import_constants =(f\"    1234567890\\nPi: {np.pi:5.4f}\\n\" +\n",
        "f\"e: {np.e:5.4f}\")\n",
        "print(import_constants)"
      ],
      "metadata": {
        "colab": {
          "base_uri": "https://localhost:8080/"
        },
        "id": "v462hmwTV6_1",
        "outputId": "977d0db9-9890-4f0a-e948-35769da192d2"
      },
      "execution_count": null,
      "outputs": [
        {
          "output_type": "stream",
          "name": "stdout",
          "text": [
            "    1234567890\n",
            "Pi: 3.1416\n",
            "e: 2.7183\n"
          ]
        }
      ]
    },
    {
      "cell_type": "markdown",
      "source": [
        "Converting string to data\n"
      ],
      "metadata": {
        "id": "l60feRIQX-y5"
      }
    },
    {
      "cell_type": "code",
      "source": [
        "data = \"\"\"10\n",
        "7\n",
        "3.4\n",
        "8.8\n",
        "1.0\n",
        "\"\"\""
      ],
      "metadata": {
        "id": "a3zg7FOwYCt_"
      },
      "execution_count": null,
      "outputs": []
    },
    {
      "cell_type": "code",
      "source": [
        "print(data)"
      ],
      "metadata": {
        "colab": {
          "base_uri": "https://localhost:8080/"
        },
        "id": "KNV9MNH0YSUw",
        "outputId": "2a0fe270-da80-4cdc-a3f3-c4d8c51de6f1"
      },
      "execution_count": null,
      "outputs": [
        {
          "output_type": "stream",
          "name": "stdout",
          "text": [
            "10\n",
            "7\n",
            "3.4\n",
            "8.8\n",
            "1.0\n",
            "\n"
          ]
        }
      ]
    },
    {
      "cell_type": "code",
      "source": [
        "data.split()"
      ],
      "metadata": {
        "colab": {
          "base_uri": "https://localhost:8080/"
        },
        "id": "iIpahlVXY20k",
        "outputId": "64a295f8-c15a-480a-9b6a-db3339b2bb9c"
      },
      "execution_count": null,
      "outputs": [
        {
          "output_type": "execute_result",
          "data": {
            "text/plain": [
              "['10', '7', '3.4', '8.8', '1.0']"
            ]
          },
          "metadata": {},
          "execution_count": 35
        }
      ]
    },
    {
      "cell_type": "code",
      "source": [
        "num_data = []\n",
        "for num in data.split():\n",
        "  num_data.append(float(num))\n",
        "print(num_data)"
      ],
      "metadata": {
        "colab": {
          "base_uri": "https://localhost:8080/"
        },
        "id": "IhfH8g6hY_PD",
        "outputId": "48f7d45e-83af-4b1d-8cb5-ac54e14a0726"
      },
      "execution_count": null,
      "outputs": [
        {
          "output_type": "stream",
          "name": "stdout",
          "text": [
            "[10.0, 7.0, 3.4, 8.8, 1.0]\n"
          ]
        }
      ]
    },
    {
      "cell_type": "code",
      "source": [
        "num_data2 = [float(num) for num in data.split()]"
      ],
      "metadata": {
        "id": "bNO-8xl6ZOzd"
      },
      "execution_count": null,
      "outputs": []
    },
    {
      "cell_type": "code",
      "source": [
        "print(num_data2)"
      ],
      "metadata": {
        "colab": {
          "base_uri": "https://localhost:8080/"
        },
        "id": "_EtlGEc3ZY9U",
        "outputId": "5c43caa9-3050-4c77-e4f0-4909fb18aebb"
      },
      "execution_count": null,
      "outputs": [
        {
          "output_type": "stream",
          "name": "stdout",
          "text": [
            "[10.0, 7.0, 3.4, 8.8, 1.0]\n"
          ]
        }
      ]
    },
    {
      "cell_type": "code",
      "source": [
        "data2=\"\"\"10\\t7\\t3.4\\t8.8\\t1.0\"\"\""
      ],
      "metadata": {
        "id": "ATiatQBtZcXZ"
      },
      "execution_count": null,
      "outputs": []
    },
    {
      "cell_type": "code",
      "source": [
        "num_data3 = [float(num) for num in data2.split()]"
      ],
      "metadata": {
        "id": "aWDx8JFxZwV2"
      },
      "execution_count": null,
      "outputs": []
    },
    {
      "cell_type": "code",
      "source": [
        "print(num_data3)"
      ],
      "metadata": {
        "colab": {
          "base_uri": "https://localhost:8080/"
        },
        "id": "o1wyPAsDaDyu",
        "outputId": "a725f689-0bd3-4fb4-f2f5-50a2f4a86fbe"
      },
      "execution_count": null,
      "outputs": [
        {
          "output_type": "stream",
          "name": "stdout",
          "text": [
            "[10.0, 7.0, 3.4, 8.8, 1.0]\n"
          ]
        }
      ]
    },
    {
      "cell_type": "markdown",
      "source": [
        "with statement"
      ],
      "metadata": {
        "id": "jpDBN961a2wd"
      }
    }
  ]
}