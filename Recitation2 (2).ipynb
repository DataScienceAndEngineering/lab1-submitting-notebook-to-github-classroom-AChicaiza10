{
  "nbformat": 4,
  "nbformat_minor": 0,
  "metadata": {
    "colab": {
      "provenance": []
    },
    "kernelspec": {
      "name": "python3",
      "display_name": "Python 3"
    },
    "language_info": {
      "name": "python"
    }
  },
  "cells": [
    {
      "cell_type": "code",
      "execution_count": null,
      "metadata": {
        "colab": {
          "base_uri": "https://localhost:8080/"
        },
        "id": "9HDnJgCxwzh1",
        "outputId": "1ae10386-e54a-44b3-df05-3c60852f94f0"
      },
      "outputs": [
        {
          "output_type": "stream",
          "name": "stdout",
          "text": [
            "welcome to recitation web class\n"
          ]
        }
      ],
      "source": [
        "# print (\"Welcome to recitation web class\")\n",
        "print(\"welcome to recitation web class\")"
      ]
    },
    {
      "cell_type": "code",
      "source": [
        "# Recitation 2: Variable"
      ],
      "metadata": {
        "id": "L0uCw_76ygQo"
      },
      "execution_count": null,
      "outputs": []
    },
    {
      "cell_type": "markdown",
      "source": [
        "Recitation 2: Variable"
      ],
      "metadata": {
        "id": "ocsYWpdNy1h_"
      }
    },
    {
      "cell_type": "code",
      "source": [
        "print(\"Hello world!\")"
      ],
      "metadata": {
        "colab": {
          "base_uri": "https://localhost:8080/"
        },
        "id": "9nvlgNKay4_y",
        "outputId": "3bf0a700-ffa6-4ee7-8b3e-173decca1bd8"
      },
      "execution_count": null,
      "outputs": [
        {
          "output_type": "stream",
          "name": "stdout",
          "text": [
            "Hello world!\n"
          ]
        }
      ]
    },
    {
      "cell_type": "markdown",
      "source": [
        "## Question: create a new notebook from your colab account named \"test1\"\n",
        "\n",
        "Add 8 cells into the test1 notebook\n",
        "\n",
        "print(\"My name is Andy Chicaiza\") in the first cell, then run it\n",
        "\n",
        "save this test1 notebook locally as test1.ipynb\n",
        "\n",
        "open test1.ipynb from colab again"
      ],
      "metadata": {
        "id": "m7i50ryF02_b"
      }
    },
    {
      "cell_type": "code",
      "source": [
        "## Question: create a new notebook from your colab account named \"test1\"\n",
        "\n",
        "Add 8 cells into the test1 notebook\n",
        "\n",
        "print(\"My name is Andy Chicaiza\") in the first cell, then run it\n",
        "\n",
        "save this test1 notebook locally as test1.ipynb\n",
        "\n",
        "open test1.ipynb from colab again"
      ],
      "metadata": {
        "colab": {
          "base_uri": "https://localhost:8080/",
          "height": 143
        },
        "id": "edrLBw9A1BMk",
        "outputId": "06689da2-4ab2-4737-8daf-403697ee2a81"
      },
      "execution_count": null,
      "outputs": [
        {
          "output_type": "error",
          "ename": "SyntaxError",
          "evalue": "ignored",
          "traceback": [
            "\u001b[0;36m  File \u001b[0;32m\"<ipython-input-11-dfc6150c9db5>\"\u001b[0;36m, line \u001b[0;32m3\u001b[0m\n\u001b[0;31m    Add 8 cells into the test1 notebook\u001b[0m\n\u001b[0m        ^\u001b[0m\n\u001b[0;31mSyntaxError\u001b[0m\u001b[0;31m:\u001b[0m invalid syntax\n"
          ]
        }
      ]
    },
    {
      "cell_type": "code",
      "source": [
        "print (\"My name is Andy Chicaiza\")"
      ],
      "metadata": {
        "colab": {
          "base_uri": "https://localhost:8080/"
        },
        "id": "fsMniflO20MQ",
        "outputId": "349bf510-c5ba-42a3-f122-91c783856e92"
      },
      "execution_count": null,
      "outputs": [
        {
          "output_type": "stream",
          "name": "stdout",
          "text": [
            "My name is Andy Chicaiza\n"
          ]
        }
      ]
    },
    {
      "cell_type": "code",
      "source": [
        "# comments sign print(\"Welcome to recitation web class\")\n",
        "print(\"welcome to recitation web class\")\n",
        "print(\"welcome to recitation web class\")"
      ],
      "metadata": {
        "colab": {
          "base_uri": "https://localhost:8080/"
        },
        "id": "CT4vFDaj4Yuz",
        "outputId": "b26fc4e1-f73a-4367-ffb3-30ff7f05e23d"
      },
      "execution_count": null,
      "outputs": [
        {
          "output_type": "stream",
          "name": "stdout",
          "text": [
            "welcome to recitation web class\n",
            "welcome to recitation web class\n"
          ]
        }
      ]
    },
    {
      "cell_type": "code",
      "source": [
        "print(\"Put ever text words in the quotation\")"
      ],
      "metadata": {
        "colab": {
          "base_uri": "https://localhost:8080/"
        },
        "id": "jd9FYznv4N-1",
        "outputId": "f9ba5a02-3b58-4fa5-ed39-d2de3adc3369"
      },
      "execution_count": null,
      "outputs": [
        {
          "output_type": "stream",
          "name": "stdout",
          "text": [
            "Put ever text words in the quotation\n"
          ]
        }
      ]
    },
    {
      "cell_type": "code",
      "source": [
        "print(\"welcome to recitation web class\")\n",
        "  print(\"welcome to recitation web class\")"
      ],
      "metadata": {
        "colab": {
          "base_uri": "https://localhost:8080/",
          "height": 143
        },
        "id": "yYBSvmju4nWO",
        "outputId": "1bc803f7-d5cc-418a-d5d6-84cf923d0979"
      },
      "execution_count": null,
      "outputs": [
        {
          "output_type": "error",
          "ename": "IndentationError",
          "evalue": "ignored",
          "traceback": [
            "\u001b[0;36m  File \u001b[0;32m\"<ipython-input-5-be4e87a1d498>\"\u001b[0;36m, line \u001b[0;32m2\u001b[0m\n\u001b[0;31m    print(\"welcome to recitation web class\")\u001b[0m\n\u001b[0m    ^\u001b[0m\n\u001b[0;31mIndentationError\u001b[0m\u001b[0;31m:\u001b[0m unexpected indent\n"
          ]
        }
      ]
    },
    {
      "cell_type": "code",
      "source": [
        "if 2>1:\n",
        "  print (\"this is under if condition\")\n",
        "print(\"this is not under if condition\")"
      ],
      "metadata": {
        "colab": {
          "base_uri": "https://localhost:8080/"
        },
        "id": "2t037cAq444b",
        "outputId": "63b43c15-518b-47fb-db9a-82128cc7fe2e"
      },
      "execution_count": null,
      "outputs": [
        {
          "output_type": "stream",
          "name": "stdout",
          "text": [
            "this is under if condition\n",
            "this is not under if condition\n"
          ]
        }
      ]
    },
    {
      "cell_type": "code",
      "source": [
        "input(\"My name is:\")"
      ],
      "metadata": {
        "colab": {
          "base_uri": "https://localhost:8080/",
          "height": 53
        },
        "id": "Ux8d1_ep5IMO",
        "outputId": "5d5fa69a-4e1b-4b1e-c531-ed20f9baf537"
      },
      "execution_count": null,
      "outputs": [
        {
          "name": "stdout",
          "output_type": "stream",
          "text": [
            "My name is:Andy Chicaiza\n"
          ]
        },
        {
          "output_type": "execute_result",
          "data": {
            "text/plain": [
              "'Andy Chicaiza'"
            ],
            "application/vnd.google.colaboratory.intrinsic+json": {
              "type": "string"
            }
          },
          "metadata": {},
          "execution_count": 9
        }
      ]
    },
    {
      "cell_type": "code",
      "source": [
        "input(\"what is the result of 2+3?\")"
      ],
      "metadata": {
        "colab": {
          "base_uri": "https://localhost:8080/",
          "height": 53
        },
        "id": "xBGqn7gt5iog",
        "outputId": "e0c85752-1151-4caf-928a-171a1d629596"
      },
      "execution_count": null,
      "outputs": [
        {
          "name": "stdout",
          "output_type": "stream",
          "text": [
            "what is the result of 2+3?5\n"
          ]
        },
        {
          "output_type": "execute_result",
          "data": {
            "text/plain": [
              "'5'"
            ],
            "application/vnd.google.colaboratory.intrinsic+json": {
              "type": "string"
            }
          },
          "metadata": {},
          "execution_count": 11
        }
      ]
    },
    {
      "cell_type": "markdown",
      "source": [
        "#Recitation 2: Variable"
      ],
      "metadata": {
        "id": "NY3Wps5G6Csv"
      }
    },
    {
      "cell_type": "code",
      "source": [
        "# variable name = value\n",
        "var=123"
      ],
      "metadata": {
        "id": "QJnC1Ghc6HpO"
      },
      "execution_count": null,
      "outputs": []
    },
    {
      "cell_type": "code",
      "source": [
        "print(var)\n",
        "print(\"var\")"
      ],
      "metadata": {
        "colab": {
          "base_uri": "https://localhost:8080/"
        },
        "id": "9q3sdDa_6zIp",
        "outputId": "cfb10bb7-1287-401d-e186-7e7c13cf103e"
      },
      "execution_count": null,
      "outputs": [
        {
          "output_type": "stream",
          "name": "stdout",
          "text": [
            "123\n",
            "var\n"
          ]
        }
      ]
    },
    {
      "cell_type": "code",
      "source": [
        "var=124"
      ],
      "metadata": {
        "id": "-SZd_hvV7NSV"
      },
      "execution_count": null,
      "outputs": []
    },
    {
      "cell_type": "code",
      "source": [
        "print(var)"
      ],
      "metadata": {
        "colab": {
          "base_uri": "https://localhost:8080/"
        },
        "id": "poIzVbRJ7Yzh",
        "outputId": "7f7ff18c-f379-49fd-adcb-08d0f0869859"
      },
      "execution_count": null,
      "outputs": [
        {
          "output_type": "stream",
          "name": "stdout",
          "text": [
            "124\n"
          ]
        }
      ]
    },
    {
      "cell_type": "code",
      "source": [
        "input(\"give a number\")"
      ],
      "metadata": {
        "colab": {
          "base_uri": "https://localhost:8080/",
          "height": 53
        },
        "id": "XCZZQbOa7uyU",
        "outputId": "8d5b7ede-560b-4e64-91e6-f6b332668f7a"
      },
      "execution_count": null,
      "outputs": [
        {
          "name": "stdout",
          "output_type": "stream",
          "text": [
            "give a number7\n"
          ]
        },
        {
          "output_type": "execute_result",
          "data": {
            "text/plain": [
              "'7'"
            ],
            "application/vnd.google.colaboratory.intrinsic+json": {
              "type": "string"
            }
          },
          "metadata": {},
          "execution_count": 20
        }
      ]
    },
    {
      "cell_type": "code",
      "source": [
        "print(var)"
      ],
      "metadata": {
        "colab": {
          "base_uri": "https://localhost:8080/"
        },
        "id": "aiIfCMSb71t1",
        "outputId": "ab4b9f33-abdb-461a-fedb-eb2e65dcf9cb"
      },
      "execution_count": null,
      "outputs": [
        {
          "output_type": "stream",
          "name": "stdout",
          "text": [
            "124\n"
          ]
        }
      ]
    },
    {
      "cell_type": "code",
      "source": [
        "var=2\n",
        "print(var)"
      ],
      "metadata": {
        "colab": {
          "base_uri": "https://localhost:8080/"
        },
        "id": "9oymAfOP8Ey_",
        "outputId": "9c917b43-3e5d-4388-f3ff-ff8e90798c5c"
      },
      "execution_count": null,
      "outputs": [
        {
          "output_type": "stream",
          "name": "stdout",
          "text": [
            "2\n"
          ]
        }
      ]
    },
    {
      "cell_type": "code",
      "source": [
        "var = input(\"input a number\")"
      ],
      "metadata": {
        "colab": {
          "base_uri": "https://localhost:8080/"
        },
        "id": "269OISYZ8lFX",
        "outputId": "536e0214-2a5e-4f1d-9700-6d4570196371"
      },
      "execution_count": null,
      "outputs": [
        {
          "name": "stdout",
          "output_type": "stream",
          "text": [
            "input a number45\n"
          ]
        }
      ]
    },
    {
      "cell_type": "code",
      "source": [
        "print(var)"
      ],
      "metadata": {
        "colab": {
          "base_uri": "https://localhost:8080/"
        },
        "id": "S30HDpC18sbZ",
        "outputId": "9f844412-05c3-4de3-a20e-cf5e55fa3f01"
      },
      "execution_count": null,
      "outputs": [
        {
          "output_type": "stream",
          "name": "stdout",
          "text": [
            "45\n"
          ]
        }
      ]
    },
    {
      "cell_type": "code",
      "source": [
        "var1 = 23\n",
        "var2 = 56\n",
        "print (var1,var2)"
      ],
      "metadata": {
        "colab": {
          "base_uri": "https://localhost:8080/"
        },
        "id": "AcM_x6Ar83bH",
        "outputId": "2680d2fc-4e93-4732-e746-478e1af67be3"
      },
      "execution_count": null,
      "outputs": [
        {
          "output_type": "stream",
          "name": "stdout",
          "text": [
            "23 56\n"
          ]
        }
      ]
    },
    {
      "cell_type": "code",
      "source": [
        "2var = 34"
      ],
      "metadata": {
        "colab": {
          "base_uri": "https://localhost:8080/",
          "height": 143
        },
        "id": "ChkoLYQg9NM7",
        "outputId": "abd6485f-07cf-4dab-bdfc-d4fd79d989e7"
      },
      "execution_count": null,
      "outputs": [
        {
          "output_type": "error",
          "ename": "SyntaxError",
          "evalue": "ignored",
          "traceback": [
            "\u001b[0;36m  File \u001b[0;32m\"<ipython-input-30-21866f551ddd>\"\u001b[0;36m, line \u001b[0;32m1\u001b[0m\n\u001b[0;31m    2var = 34\u001b[0m\n\u001b[0m    ^\u001b[0m\n\u001b[0;31mSyntaxError\u001b[0m\u001b[0;31m:\u001b[0m invalid decimal literal\n"
          ]
        }
      ]
    },
    {
      "cell_type": "code",
      "source": [
        "var_test1 = 344"
      ],
      "metadata": {
        "id": "Pj0TBpc_9gui"
      },
      "execution_count": null,
      "outputs": []
    },
    {
      "cell_type": "code",
      "source": [
        "print(var_test1)"
      ],
      "metadata": {
        "colab": {
          "base_uri": "https://localhost:8080/"
        },
        "id": "Lo08j2zz9mFS",
        "outputId": "ac240be8-2f42-4609-86f2-6e59b1510b7a"
      },
      "execution_count": null,
      "outputs": [
        {
          "output_type": "stream",
          "name": "stdout",
          "text": [
            "344\n"
          ]
        }
      ]
    },
    {
      "cell_type": "code",
      "source": [
        "var=23\n",
        "var=24\n",
        "print (var)"
      ],
      "metadata": {
        "colab": {
          "base_uri": "https://localhost:8080/"
        },
        "id": "G_K9nAKd9wxY",
        "outputId": "f63c1932-691b-4482-b5fb-e93881571d68"
      },
      "execution_count": null,
      "outputs": [
        {
          "output_type": "stream",
          "name": "stdout",
          "text": [
            "24\n"
          ]
        }
      ]
    },
    {
      "cell_type": "code",
      "source": [
        "var=23\n",
        "Var=24\n",
        "print(var)"
      ],
      "metadata": {
        "colab": {
          "base_uri": "https://localhost:8080/"
        },
        "id": "zGadUTe_95Ms",
        "outputId": "53f674c0-ae2e-42a5-e0f9-8344ed001f0e"
      },
      "execution_count": null,
      "outputs": [
        {
          "output_type": "stream",
          "name": "stdout",
          "text": [
            "23\n"
          ]
        }
      ]
    },
    {
      "cell_type": "code",
      "source": [
        "print(Var)"
      ],
      "metadata": {
        "colab": {
          "base_uri": "https://localhost:8080/"
        },
        "id": "o0VKkxKp-ANk",
        "outputId": "2793e845-97e5-41ba-ae16-f29f3eb508ee"
      },
      "execution_count": null,
      "outputs": [
        {
          "output_type": "stream",
          "name": "stdout",
          "text": [
            "24\n"
          ]
        }
      ]
    },
    {
      "cell_type": "code",
      "source": [
        "i = 12\n",
        "f = 3.14"
      ],
      "metadata": {
        "id": "nlzr_bXh-Q_H"
      },
      "execution_count": null,
      "outputs": []
    },
    {
      "cell_type": "code",
      "source": [
        "type(i)"
      ],
      "metadata": {
        "colab": {
          "base_uri": "https://localhost:8080/"
        },
        "id": "c2hzD8Qc-Zl-",
        "outputId": "08f2aa72-1fd6-45bf-979d-e8f7ef692a47"
      },
      "execution_count": null,
      "outputs": [
        {
          "output_type": "execute_result",
          "data": {
            "text/plain": [
              "int"
            ]
          },
          "metadata": {},
          "execution_count": 42
        }
      ]
    },
    {
      "cell_type": "code",
      "source": [
        "type(f)"
      ],
      "metadata": {
        "colab": {
          "base_uri": "https://localhost:8080/"
        },
        "id": "UXlev47m-c6D",
        "outputId": "77bba31c-75bf-417d-95e1-b37d95898873"
      },
      "execution_count": null,
      "outputs": [
        {
          "output_type": "execute_result",
          "data": {
            "text/plain": [
              "float"
            ]
          },
          "metadata": {},
          "execution_count": 43
        }
      ]
    },
    {
      "cell_type": "code",
      "source": [
        "i=13"
      ],
      "metadata": {
        "id": "sw06qB9f--Lu"
      },
      "execution_count": null,
      "outputs": []
    },
    {
      "cell_type": "code",
      "source": [
        "type(hue)"
      ],
      "metadata": {
        "colab": {
          "base_uri": "https://localhost:8080/",
          "height": 179
        },
        "id": "gIkNQMqh_jvv",
        "outputId": "595c60e5-93d3-4996-fbb9-486f3098eefb"
      },
      "execution_count": null,
      "outputs": [
        {
          "output_type": "error",
          "ename": "NameError",
          "evalue": "ignored",
          "traceback": [
            "\u001b[0;31m---------------------------------------------------------------------------\u001b[0m",
            "\u001b[0;31mNameError\u001b[0m                                 Traceback (most recent call last)",
            "\u001b[0;32m<ipython-input-63-b7b5f1e7c3e8>\u001b[0m in \u001b[0;36m<cell line: 1>\u001b[0;34m()\u001b[0m\n\u001b[0;32m----> 1\u001b[0;31m \u001b[0mtype\u001b[0m\u001b[0;34m(\u001b[0m\u001b[0mhue\u001b[0m\u001b[0;34m)\u001b[0m\u001b[0;34m\u001b[0m\u001b[0;34m\u001b[0m\u001b[0m\n\u001b[0m",
            "\u001b[0;31mNameError\u001b[0m: name 'hue' is not defined"
          ]
        }
      ]
    },
    {
      "cell_type": "code",
      "source": [
        "i = 16\n",
        "f = 3.2"
      ],
      "metadata": {
        "id": "aBriMu1D_zDs"
      },
      "execution_count": null,
      "outputs": []
    },
    {
      "cell_type": "code",
      "source": [
        "print(i)"
      ],
      "metadata": {
        "colab": {
          "base_uri": "https://localhost:8080/"
        },
        "id": "NrJV4qdmGGPr",
        "outputId": "c6cab91b-4f8b-4acd-bfd6-3671d71202d7"
      },
      "execution_count": null,
      "outputs": [
        {
          "output_type": "stream",
          "name": "stdout",
          "text": [
            "16\n"
          ]
        }
      ]
    },
    {
      "cell_type": "code",
      "source": [
        "type(f)"
      ],
      "metadata": {
        "colab": {
          "base_uri": "https://localhost:8080/",
          "height": 179
        },
        "id": "GkW-sP2YGU-s",
        "outputId": "a1a39710-be98-4319-f26a-ffa3d260e5e1"
      },
      "execution_count": null,
      "outputs": [
        {
          "output_type": "error",
          "ename": "TypeError",
          "evalue": "ignored",
          "traceback": [
            "\u001b[0;31m---------------------------------------------------------------------------\u001b[0m",
            "\u001b[0;31mTypeError\u001b[0m                                 Traceback (most recent call last)",
            "\u001b[0;32m<ipython-input-129-9b1b2ea71b9c>\u001b[0m in \u001b[0;36m<cell line: 1>\u001b[0;34m()\u001b[0m\n\u001b[0;32m----> 1\u001b[0;31m \u001b[0mtype\u001b[0m\u001b[0;34m(\u001b[0m\u001b[0mf\u001b[0m\u001b[0;34m)\u001b[0m\u001b[0;34m\u001b[0m\u001b[0;34m\u001b[0m\u001b[0m\n\u001b[0m",
            "\u001b[0;31mTypeError\u001b[0m: 'float' object is not callable"
          ]
        }
      ]
    },
    {
      "cell_type": "code",
      "source": [
        "print(type(i))"
      ],
      "metadata": {
        "colab": {
          "base_uri": "https://localhost:8080/",
          "height": 179
        },
        "id": "VH0Kw0P1_8n8",
        "outputId": "5700a426-69b8-4b2d-cbbf-ab2334bc8c20"
      },
      "execution_count": null,
      "outputs": [
        {
          "output_type": "error",
          "ename": "TypeError",
          "evalue": "ignored",
          "traceback": [
            "\u001b[0;31m---------------------------------------------------------------------------\u001b[0m",
            "\u001b[0;31mTypeError\u001b[0m                                 Traceback (most recent call last)",
            "\u001b[0;32m<ipython-input-128-bcd44c616b61>\u001b[0m in \u001b[0;36m<cell line: 1>\u001b[0;34m()\u001b[0m\n\u001b[0;32m----> 1\u001b[0;31m \u001b[0mprint\u001b[0m\u001b[0;34m(\u001b[0m\u001b[0mtype\u001b[0m\u001b[0;34m(\u001b[0m\u001b[0mi\u001b[0m\u001b[0;34m)\u001b[0m\u001b[0;34m)\u001b[0m\u001b[0;34m\u001b[0m\u001b[0;34m\u001b[0m\u001b[0m\n\u001b[0m",
            "\u001b[0;31mTypeError\u001b[0m: 'float' object is not callable"
          ]
        }
      ]
    },
    {
      "cell_type": "code",
      "source": [
        "print(\"Hello world\")"
      ],
      "metadata": {
        "colab": {
          "base_uri": "https://localhost:8080/"
        },
        "id": "CVFveXWtAANG",
        "outputId": "7c2fdc12-87be-4f97-d1e5-22409a66116a"
      },
      "execution_count": null,
      "outputs": [
        {
          "output_type": "stream",
          "name": "stdout",
          "text": [
            "Hello world\n"
          ]
        }
      ]
    },
    {
      "cell_type": "code",
      "source": [
        "\"hello world\""
      ],
      "metadata": {
        "colab": {
          "base_uri": "https://localhost:8080/",
          "height": 35
        },
        "id": "cjF7BsApAD3G",
        "outputId": "75a43b65-14ad-4df7-fde0-3c7a609b5c9b"
      },
      "execution_count": null,
      "outputs": [
        {
          "output_type": "execute_result",
          "data": {
            "text/plain": [
              "'hello world'"
            ],
            "application/vnd.google.colaboratory.intrinsic+json": {
              "type": "string"
            }
          },
          "metadata": {},
          "execution_count": 69
        }
      ]
    },
    {
      "cell_type": "markdown",
      "source": [
        "If else"
      ],
      "metadata": {
        "id": "DLgWWlxgATKM"
      }
    },
    {
      "cell_type": "code",
      "source": [
        "# if statement: statement is True\n",
        "  print(\"first line\")\n",
        "  print(\"second\")"
      ],
      "metadata": {
        "colab": {
          "base_uri": "https://localhost:8080/",
          "height": 143
        },
        "id": "fQTavGPQAVHl",
        "outputId": "b615874b-516f-4208-87ab-b3a361017474"
      },
      "execution_count": null,
      "outputs": [
        {
          "output_type": "error",
          "ename": "IndentationError",
          "evalue": "ignored",
          "traceback": [
            "\u001b[0;36m  File \u001b[0;32m\"<ipython-input-73-de32d017eaa0>\"\u001b[0;36m, line \u001b[0;32m2\u001b[0m\n\u001b[0;31m    print(\"first line\")\u001b[0m\n\u001b[0m    ^\u001b[0m\n\u001b[0;31mIndentationError\u001b[0m\u001b[0;31m:\u001b[0m unexpected indent\n"
          ]
        }
      ]
    },
    {
      "cell_type": "code",
      "source": [
        "if 1==2:\n",
        "  print(\"first line\")\n",
        "  print(\"second\")\n",
        "else:\n",
        "  print(\"if statement is false\")\n",
        "  print(\"print else\")"
      ],
      "metadata": {
        "colab": {
          "base_uri": "https://localhost:8080/"
        },
        "id": "4rmSYv_XAsiu",
        "outputId": "229d47f1-90e9-4329-a824-3f904ece6b65"
      },
      "execution_count": null,
      "outputs": [
        {
          "output_type": "stream",
          "name": "stdout",
          "text": [
            "if statement is false\n",
            "print else\n"
          ]
        }
      ]
    },
    {
      "cell_type": "code",
      "source": [
        "if 1==1:\n",
        "  print(\"first line\")\n",
        "  print(\"second\")\n",
        "else:\n",
        "  print(\"if statement is false\")\n",
        "print(\"print else\")"
      ],
      "metadata": {
        "colab": {
          "base_uri": "https://localhost:8080/"
        },
        "id": "CFPFpu91BH5G",
        "outputId": "170c843e-dbf9-4197-ac19-e6186a660bcb"
      },
      "execution_count": null,
      "outputs": [
        {
          "output_type": "stream",
          "name": "stdout",
          "text": [
            "first line\n",
            "second\n",
            "print else\n"
          ]
        }
      ]
    },
    {
      "cell_type": "code",
      "source": [
        "var=100"
      ],
      "metadata": {
        "id": "WHvEEfR9BtAD"
      },
      "execution_count": null,
      "outputs": []
    },
    {
      "cell_type": "code",
      "source": [
        "if var<12:\n",
        "  print(\"less than 12\")\n",
        "elif var<13:\n",
        "  print(\"bigger than 12\")\n",
        "elif var>13:\n",
        "  print(var)\n",
        "else:\n",
        "  print(\"equal\")"
      ],
      "metadata": {
        "colab": {
          "base_uri": "https://localhost:8080/"
        },
        "id": "80315g_VBvJT",
        "outputId": "ef108ffd-8998-40d2-c9f3-4c717a225bd4"
      },
      "execution_count": null,
      "outputs": [
        {
          "output_type": "stream",
          "name": "stdout",
          "text": [
            "100\n"
          ]
        }
      ]
    },
    {
      "cell_type": "code",
      "source": [
        "# string"
      ],
      "metadata": {
        "id": "7xFyYWs7C2vo"
      },
      "execution_count": null,
      "outputs": []
    },
    {
      "cell_type": "code",
      "source": [
        "s=\"dhudnjdfnfhb\""
      ],
      "metadata": {
        "id": "G7vlGncuC6WP"
      },
      "execution_count": null,
      "outputs": []
    },
    {
      "cell_type": "code",
      "source": [
        "s=\"apple\""
      ],
      "metadata": {
        "id": "vjhglrI3DAjB"
      },
      "execution_count": null,
      "outputs": []
    },
    {
      "cell_type": "code",
      "source": [
        "\"apple\""
      ],
      "metadata": {
        "colab": {
          "base_uri": "https://localhost:8080/",
          "height": 35
        },
        "id": "zkja-LUADLGo",
        "outputId": "3ecf3050-bd66-49d6-d2d1-9b1b34330a10"
      },
      "execution_count": null,
      "outputs": [
        {
          "output_type": "execute_result",
          "data": {
            "text/plain": [
              "'apple'"
            ],
            "application/vnd.google.colaboratory.intrinsic+json": {
              "type": "string"
            }
          },
          "metadata": {},
          "execution_count": 104
        }
      ]
    },
    {
      "cell_type": "code",
      "source": [
        "if s == \"apple\":\n",
        "  print(\"this is an apple\")\n",
        "elif s == \"orange\":\n",
        "  print(\"s\")\n",
        "else:\n",
        "  print(\"other fruit\")"
      ],
      "metadata": {
        "colab": {
          "base_uri": "https://localhost:8080/"
        },
        "id": "ErGvk43lDQVG",
        "outputId": "b86668eb-979b-4ba8-bb60-99dfb253c8e7"
      },
      "execution_count": null,
      "outputs": [
        {
          "output_type": "stream",
          "name": "stdout",
          "text": [
            "this is an apple\n"
          ]
        }
      ]
    },
    {
      "cell_type": "code",
      "source": [
        "len(\"apple\")"
      ],
      "metadata": {
        "colab": {
          "base_uri": "https://localhost:8080/"
        },
        "id": "fAkcC8kmDy4U",
        "outputId": "39588673-c93b-48e3-9588-861d22a7841e"
      },
      "execution_count": null,
      "outputs": [
        {
          "output_type": "execute_result",
          "data": {
            "text/plain": [
              "5"
            ]
          },
          "metadata": {},
          "execution_count": 115
        }
      ]
    },
    {
      "cell_type": "code",
      "source": [
        "len(\"apple \")"
      ],
      "metadata": {
        "colab": {
          "base_uri": "https://localhost:8080/"
        },
        "id": "7ZyFGqn6D13G",
        "outputId": "9cdaad53-dcc3-460e-8a6b-aa97b2f4f310"
      },
      "execution_count": null,
      "outputs": [
        {
          "output_type": "execute_result",
          "data": {
            "text/plain": [
              "6"
            ]
          },
          "metadata": {},
          "execution_count": 116
        }
      ]
    }
  ]
}